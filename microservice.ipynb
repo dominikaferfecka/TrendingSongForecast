{
 "cells": [
  {
   "cell_type": "code",
   "execution_count": null,
   "metadata": {},
   "outputs": [
    {
     "name": "stdout",
     "output_type": "stream",
     "text": [
      "Mikroserwis Flask został uruchomiony.\n"
     ]
    }
   ],
   "source": [
    "import subprocess\n",
    "import time\n",
    "\n",
    "flask_app_path = \"microservice/flaskr\"\n",
    "\n",
    "flask_command = [\"flask\", \"--app\", flask_app_path, \"run\", \"--debug\"]\n",
    "\n",
    "flask_process = subprocess.Popen(flask_command, stdout=subprocess.PIPE, stderr=subprocess.PIPE)\n",
    "\n",
    "time.sleep(5)\n",
    "\n",
    "print(\"Mikroserwis Flask został uruchomiony.\")\n"
   ]
  },
  {
   "cell_type": "code",
   "execution_count": 15,
   "metadata": {},
   "outputs": [
    {
     "name": "stdout",
     "output_type": "stream",
     "text": [
      "Automatyczny wybór modelu:\n",
      "Odpowiedź mikroserwisu (automatyczny wybór):\n",
      "['3U4isOIWM3VvDubwSI3y7a', '55Am8neGJkdj2ADaM3aw5H', '43zdsphuZLzwA9k4DJhU0I', '3ZCTVFBt2Brf31RLEnCkWJ', '1ZMiCix7XSAbfAJlEZWMCp', '1Xi84slp6FryDSCbzq4UCD', '7qEHsqek33rTcFNT9PFqLf', '4xqrdfXkTW4T0RauPLv3WA', '7MiZjKawmXTsTNePyTfPyL', '45bE4HXI0AwGZXfZtMp8JR', '249gnXrbfmV8NG6jTEMSwD', '2b8fOow8UzyDFAE27YhOZM', '2ZRo7axmMPeSVUvDbGkJah', '3FAJ6O0NOHQV8Mc5Ri6ENp', '2gMXnyrvIjhVBUZwvLZDMP', '7lPN2DXiMsVn7XUKtOW1CS', '6AGOKlMZWLCaEJGnaROtF9', '27OeeYzk6klgBh83TSvGMA', '3eekarcy7kvN4yt5ZFzltW', '0tgVpDi06FyKpA1z0VMD4v', '3YJJjQPAbDT7mGpX3WtQ9A', '0ofHAoxe9vBkTCp2UQIavz', '61KpQadow081I2AsbeLcsb', '7fBv7CLKzipRk6EC6TWHOB', '30bqVoKjX479ab90a8Pafp', '6ocbgoVGwYJhOv1GgI9NsF', '6tDDoYIxWvMLTdKpjFkc1B', '45S5WTQEGOB1VHr1Q4FuPl', '6UelLqGlWMcVH1E5c4H7lY', '0VjIjW4GlUZAMYd2vXMi3b', '0ct6r3EGTcMLPtrXHDvVjc', '3UHPGOkUcE4hE7sqBF4Snt', '285pBltuF7vW8TeWk8hdRR', '6KfoDhO4XUWSbnyKjNp9c4', '7FdUvDkaE24o3FPIWTvzv2', '7uoFMmxln0GPXQ0AcCBXRq', '696DnlkuDOXcMAnKlTgXXK', '7szuecWAPwGoV1e5vGu8tl', '4u4NyuceXP7Uzh7XFJKCr1', '31qCy5ZaophVA81wtlwLc4', '6K4t31amVTZDgR3sKmwUJJ', '59qrUpoplZxbIZxk6X0Bm3', '2GiJYvgVaD2HtM8GqD9EgQ', '21jGcNKet2qwijlDFuPiPb', '60ynsPSSKe6O3sfwRnIBRf', '1nahzW3kfMuwReTka28tH5', '2kS6td1yvmpNgZTt1q5pQq', '6Hj9jySrnFppAI0sEMCZpJ', '43PGPuHIlVOc04jrZVh9L6', '3aQem4jVGdhtg116TmJnHz']\n",
      "\n",
      "Wymuszenie użycia modelu LSTM:\n",
      "Odpowiedź mikroserwisu (LSTM):\n",
      "['3U4isOIWM3VvDubwSI3y7a', '55Am8neGJkdj2ADaM3aw5H', '43zdsphuZLzwA9k4DJhU0I', '3ZCTVFBt2Brf31RLEnCkWJ', '1ZMiCix7XSAbfAJlEZWMCp', '1Xi84slp6FryDSCbzq4UCD', '7qEHsqek33rTcFNT9PFqLf', '4xqrdfXkTW4T0RauPLv3WA', '7MiZjKawmXTsTNePyTfPyL', '45bE4HXI0AwGZXfZtMp8JR', '249gnXrbfmV8NG6jTEMSwD', '2b8fOow8UzyDFAE27YhOZM', '2ZRo7axmMPeSVUvDbGkJah', '3FAJ6O0NOHQV8Mc5Ri6ENp', '2gMXnyrvIjhVBUZwvLZDMP', '7lPN2DXiMsVn7XUKtOW1CS', '6AGOKlMZWLCaEJGnaROtF9', '27OeeYzk6klgBh83TSvGMA', '3eekarcy7kvN4yt5ZFzltW', '0tgVpDi06FyKpA1z0VMD4v', '3YJJjQPAbDT7mGpX3WtQ9A', '0ofHAoxe9vBkTCp2UQIavz', '61KpQadow081I2AsbeLcsb', '7fBv7CLKzipRk6EC6TWHOB', '30bqVoKjX479ab90a8Pafp', '6ocbgoVGwYJhOv1GgI9NsF', '6tDDoYIxWvMLTdKpjFkc1B', '45S5WTQEGOB1VHr1Q4FuPl', '6UelLqGlWMcVH1E5c4H7lY', '0VjIjW4GlUZAMYd2vXMi3b', '0ct6r3EGTcMLPtrXHDvVjc', '3UHPGOkUcE4hE7sqBF4Snt', '285pBltuF7vW8TeWk8hdRR', '6KfoDhO4XUWSbnyKjNp9c4', '7FdUvDkaE24o3FPIWTvzv2', '7uoFMmxln0GPXQ0AcCBXRq', '696DnlkuDOXcMAnKlTgXXK', '7szuecWAPwGoV1e5vGu8tl', '4u4NyuceXP7Uzh7XFJKCr1', '31qCy5ZaophVA81wtlwLc4', '6K4t31amVTZDgR3sKmwUJJ', '59qrUpoplZxbIZxk6X0Bm3', '2GiJYvgVaD2HtM8GqD9EgQ', '21jGcNKet2qwijlDFuPiPb', '60ynsPSSKe6O3sfwRnIBRf', '1nahzW3kfMuwReTka28tH5', '2kS6td1yvmpNgZTt1q5pQq', '6Hj9jySrnFppAI0sEMCZpJ', '43PGPuHIlVOc04jrZVh9L6', '3aQem4jVGdhtg116TmJnHz']\n",
      "\n",
      "Wymuszenie użycia modelu ARIMA:\n",
      "Odpowiedź mikroserwisu (ARIMA):\n",
      "['249gnXrbfmV8NG6jTEMSwD', '55Am8neGJkdj2ADaM3aw5H', '35mvY5S1H3J2QZyna3TFe0', '2b8fOow8UzyDFAE27YhOZM', '1XXimziG1uhM0eDNCZCrUl', '0pqnGHJpmpxLKifKRmU6WP', '3ee8Jmje8o58CHK66QrVC2', '3U4isOIWM3VvDubwSI3y7a', '1ZMiCix7XSAbfAJlEZWMCp', '4u4NyuceXP7Uzh7XFJKCr1', '45S5WTQEGOB1VHr1Q4FuPl', '0ofHAoxe9vBkTCp2UQIavz', '5FVd6KXrgO9B3JPmC8OPst', '3ZCTVFBt2Brf31RLEnCkWJ', '6zFMeegAMYQo0mt8rXtrli', '59qrUpoplZxbIZxk6X0Bm3', '0tgVpDi06FyKpA1z0VMD4v', '7FdUvDkaE24o3FPIWTvzv2', '7fBv7CLKzipRk6EC6TWHOB', '6Im9k8u9iIzKMrmV7BWtlF', '7vrJn5hDSXRmdXoR30KgF1', '2Fxmhks0bxGSBdJ92vM42m', '1KixkQVDUHggZMU9dUobgm', '7lPN2DXiMsVn7XUKtOW1CS', '6KfoDhO4XUWSbnyKjNp9c4', '3aQem4jVGdhtg116TmJnHz', '3eekarcy7kvN4yt5ZFzltW', '1diS6nkxMQc3wwC4G1j0bh', '3jjujdWJ72nww5eGnfs2E7', '27OeeYzk6klgBh83TSvGMA', '2ZRo7axmMPeSVUvDbGkJah', '79s5XnCN4TJKTVMSmOx8Ep', '0E4Y1XIbs8GrAT1YqVy6dq', '20McUFi8KCIVdNDLrkTDuZ', '2Lhdl74nwwVGOE2Gv35QuK', '2WfaOiMkCvy7F5fcp2zZ8L', '4xqrdfXkTW4T0RauPLv3WA', '45bE4HXI0AwGZXfZtMp8JR', '7MiZjKawmXTsTNePyTfPyL', '2U5WueTLIK5WJLD7mvDODv', '5QO79kh1waicV47BqGRL3g', '1tkg4EHVoqnhR6iFEXb60y', '285pBltuF7vW8TeWk8hdRR', '30bqVoKjX479ab90a8Pafp', '61KpQadow081I2AsbeLcsb', '0VjIjW4GlUZAMYd2vXMi3b', '6UelLqGlWMcVH1E5c4H7lY', '2MZQAvsA7aZDssppBLRxYp', '7szuecWAPwGoV1e5vGu8tl', '1nahzW3kfMuwReTka28tH5']\n",
      "\n",
      "Liczba wspólnych utworów w LSTM i ARIMA: 29\n",
      "Wspólne utwory: ['61KpQadow081I2AsbeLcsb', '45S5WTQEGOB1VHr1Q4FuPl', '3U4isOIWM3VvDubwSI3y7a', '7szuecWAPwGoV1e5vGu8tl', '2b8fOow8UzyDFAE27YhOZM', '0ofHAoxe9vBkTCp2UQIavz', '1ZMiCix7XSAbfAJlEZWMCp', '7FdUvDkaE24o3FPIWTvzv2', '249gnXrbfmV8NG6jTEMSwD', '0VjIjW4GlUZAMYd2vXMi3b', '7fBv7CLKzipRk6EC6TWHOB', '55Am8neGJkdj2ADaM3aw5H', '2ZRo7axmMPeSVUvDbGkJah', '3ZCTVFBt2Brf31RLEnCkWJ', '3aQem4jVGdhtg116TmJnHz', '6UelLqGlWMcVH1E5c4H7lY', '1nahzW3kfMuwReTka28tH5', '59qrUpoplZxbIZxk6X0Bm3', '30bqVoKjX479ab90a8Pafp', '0tgVpDi06FyKpA1z0VMD4v', '7lPN2DXiMsVn7XUKtOW1CS', '4xqrdfXkTW4T0RauPLv3WA', '3eekarcy7kvN4yt5ZFzltW', '45bE4HXI0AwGZXfZtMp8JR', '285pBltuF7vW8TeWk8hdRR', '4u4NyuceXP7Uzh7XFJKCr1', '7MiZjKawmXTsTNePyTfPyL', '6KfoDhO4XUWSbnyKjNp9c4', '27OeeYzk6klgBh83TSvGMA']\n"
     ]
    }
   ],
   "source": [
    "import requests\n",
    "\n",
    "base_url = \"http://127.0.0.1:5000\"\n",
    "headers = {\n",
    "    \"Content-Type\": \"application/json\"\n",
    "}\n",
    "\n",
    "print(\"Automatyczny wybór modelu:\")\n",
    "response_auto = requests.post(\n",
    "    f\"{base_url}/predict\",\n",
    "    headers=headers,\n",
    "    json={}\n",
    ")\n",
    "if response_auto.status_code == 200:\n",
    "    auto_prediction = response_auto.json().get(\"prediction\", [])\n",
    "    print(\"Odpowiedź mikroserwisu (automatyczny wybór):\")\n",
    "    print(auto_prediction)\n",
    "else:\n",
    "    print(\"Błąd (automatyczny wybór):\")\n",
    "    print(response_auto.status_code, response_auto.text)\n",
    "\n",
    "print(\"\\nWymuszenie użycia modelu LSTM:\")\n",
    "response_lstm = requests.post(\n",
    "    f\"{base_url}/predict\",\n",
    "    headers=headers,\n",
    "    json={\"model_type\": \"lstm\"}\n",
    ")\n",
    "if response_lstm.status_code == 200:\n",
    "    lstm_prediction = response_lstm.json().get(\"prediction\", [])\n",
    "    print(\"Odpowiedź mikroserwisu (LSTM):\")\n",
    "    print(lstm_prediction)\n",
    "else:\n",
    "    print(\"Błąd (LSTM):\")\n",
    "    lstm_prediction = []\n",
    "    print(response_lstm.status_code, response_lstm.text)\n",
    "\n",
    "print(\"\\nWymuszenie użycia modelu ARIMA:\")\n",
    "response_arima = requests.post(\n",
    "    f\"{base_url}/predict\",\n",
    "    headers=headers,\n",
    "    json={\"model_type\": \"arima\"} \n",
    ")\n",
    "\n",
    "if response_arima.status_code == 200:\n",
    "    arima_prediction = response_arima.json().get(\"prediction\", [])\n",
    "    print(\"Odpowiedź mikroserwisu (ARIMA):\")\n",
    "    print(arima_prediction)\n",
    "else:\n",
    "    print(\"Błąd (ARIMA):\")\n",
    "    arima_prediction = []\n",
    "    print(response_arima.status_code, response_arima.text)\n",
    "\n",
    "if lstm_prediction and arima_prediction:\n",
    "    common_tracks = set(lstm_prediction) & set(arima_prediction)\n",
    "    print(f\"\\nLiczba wspólnych utworów w LSTM i ARIMA: {len(common_tracks)}\")\n",
    "    print(\"Wspólne utwory:\", list(common_tracks))\n",
    "else:\n",
    "    print(\"\\nNie można porównać wyników: brak danych z jednego z modeli.\")\n"
   ]
  },
  {
   "cell_type": "code",
   "execution_count": 11,
   "metadata": {},
   "outputs": [
    {
     "name": "stdout",
     "output_type": "stream",
     "text": [
      "Mikroserwis Flask został zatrzymany.\n"
     ]
    }
   ],
   "source": [
    "flask_process.terminate()\n",
    "flask_process.wait()\n",
    "print(\"Mikroserwis Flask został zatrzymany.\")\n"
   ]
  }
 ],
 "metadata": {
  "kernelspec": {
   "display_name": "Python 3",
   "language": "python",
   "name": "python3"
  },
  "language_info": {
   "codemirror_mode": {
    "name": "ipython",
    "version": 3
   },
   "file_extension": ".py",
   "mimetype": "text/x-python",
   "name": "python",
   "nbconvert_exporter": "python",
   "pygments_lexer": "ipython3",
   "version": "3.10.12"
  }
 },
 "nbformat": 4,
 "nbformat_minor": 2
}
