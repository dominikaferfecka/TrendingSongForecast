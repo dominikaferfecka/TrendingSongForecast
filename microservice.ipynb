{
 "cells": [
  {
   "cell_type": "markdown",
   "metadata": {},
   "source": [
    "# Mikroserwis - predykcja popularnych utworów\n",
    "Mikroserwis został zaimplementowany przy pomocy narzędzia Flask. Kod źródłowy znajduje się w folderze */microservice*. \n",
    "\n",
    "Przed uruchomieniem kodu należy sprawdzić czy port **5000** "
   ]
  },
  {
   "cell_type": "code",
   "execution_count": 47,
   "metadata": {},
   "outputs": [
    {
     "name": "stdout",
     "output_type": "stream",
     "text": [
      "Mikroserwis Flask został uruchomiony.\n"
     ]
    }
   ],
   "source": [
    "import subprocess\n",
    "import time\n",
    "\n",
    "flask_app_path = \"microservice/flaskr\"\n",
    "\n",
    "flask_command = [\"flask\", \"--app\", flask_app_path, \"run\", \"--debug\"]\n",
    "\n",
    "flask_process = subprocess.Popen(flask_command, stdout=subprocess.PIPE, stderr=subprocess.PIPE)\n",
    "\n",
    "time.sleep(10)\n",
    "\n",
    "print(\"Mikroserwis Flask został uruchomiony.\")\n"
   ]
  },
  {
   "cell_type": "code",
   "execution_count": 48,
   "metadata": {},
   "outputs": [
    {
     "name": "stdout",
     "output_type": "stream",
     "text": [
      "Automatyczny wybór modelu:\n",
      "Odpowiedź mikroserwisu (automatyczny wybór):\n",
      "['3ZCTVFBt2Brf31RLEnCkWJ', '7qEHsqek33rTcFNT9PFqLf', '2b8fOow8UzyDFAE27YhOZM', '4xqrdfXkTW4T0RauPLv3WA', '61KpQadow081I2AsbeLcsb', '7qiZfU4dY1lWllzX7mPBI3', '3FAJ6O0NOHQV8Mc5Ri6ENp', '6Im9k8u9iIzKMrmV7BWtlF', '45bE4HXI0AwGZXfZtMp8JR', '6zFMeegAMYQo0mt8rXtrli', '2ZRo7axmMPeSVUvDbGkJah', '1VLtjHwRWOVJiE5Py7JxoQ', '2MZQAvsA7aZDssppBLRxYp', '31qCy5ZaophVA81wtlwLc4', '7lPN2DXiMsVn7XUKtOW1CS', '2tnVG71enUj33Ic2nFN6kZ', '2dl5K2ScW7jYhAhuem06cm', '2gMXnyrvIjhVBUZwvLZDMP', '45S5WTQEGOB1VHr1Q4FuPl', '6K4t31amVTZDgR3sKmwUJJ', '285pBltuF7vW8TeWk8hdRR', '0ofHAoxe9vBkTCp2UQIavz', '4C6BlqqMwjFzOXzqpTeoWR', '5vGLcdRuSbUhD8ScwsGSdA', '0VjIjW4GlUZAMYd2vXMi3b', '79s5XnCN4TJKTVMSmOx8Ep', '21jGcNKet2qwijlDFuPiPb', '3aQem4jVGdhtg116TmJnHz', '1XXimziG1uhM0eDNCZCrUl', '7fBv7CLKzipRk6EC6TWHOB', '3UHPGOkUcE4hE7sqBF4Snt', '6ocbgoVGwYJhOv1GgI9NsF', '6tDDoYIxWvMLTdKpjFkc1B', '2U5WueTLIK5WJLD7mvDODv', '249gnXrbfmV8NG6jTEMSwD', '7szuecWAPwGoV1e5vGu8tl', '7vrJn5hDSXRmdXoR30KgF1', '15OjBeqNX3bShsGYQbteRv', '55Am8neGJkdj2ADaM3aw5H', '20McUFi8KCIVdNDLrkTDuZ', '7MiZjKawmXTsTNePyTfPyL', '1tkg4EHVoqnhR6iFEXb60y', '7uoFMmxln0GPXQ0AcCBXRq', '6f3Slt0GbA2bPZlz0aIFXN', '696DnlkuDOXcMAnKlTgXXK', '43PGPuHIlVOc04jrZVh9L6', '1diS6nkxMQc3wwC4G1j0bh', '4u4NyuceXP7Uzh7XFJKCr1', '3ee8Jmje8o58CHK66QrVC2', '2XU0oxnq2qxCpomAAuJY8K']\n",
      "\n",
      "Wymuszenie użycia modelu LSTM:\n",
      "lstm\n",
      "Odpowiedź mikroserwisu (LSTM):\n",
      "['3ZCTVFBt2Brf31RLEnCkWJ', '7qEHsqek33rTcFNT9PFqLf', '2b8fOow8UzyDFAE27YhOZM', '4xqrdfXkTW4T0RauPLv3WA', '61KpQadow081I2AsbeLcsb', '7qiZfU4dY1lWllzX7mPBI3', '3FAJ6O0NOHQV8Mc5Ri6ENp', '6Im9k8u9iIzKMrmV7BWtlF', '45bE4HXI0AwGZXfZtMp8JR', '6zFMeegAMYQo0mt8rXtrli', '2ZRo7axmMPeSVUvDbGkJah', '1VLtjHwRWOVJiE5Py7JxoQ', '2MZQAvsA7aZDssppBLRxYp', '31qCy5ZaophVA81wtlwLc4', '7lPN2DXiMsVn7XUKtOW1CS', '2tnVG71enUj33Ic2nFN6kZ', '2dl5K2ScW7jYhAhuem06cm', '2gMXnyrvIjhVBUZwvLZDMP', '45S5WTQEGOB1VHr1Q4FuPl', '6K4t31amVTZDgR3sKmwUJJ', '285pBltuF7vW8TeWk8hdRR', '0ofHAoxe9vBkTCp2UQIavz', '4C6BlqqMwjFzOXzqpTeoWR', '5vGLcdRuSbUhD8ScwsGSdA', '0VjIjW4GlUZAMYd2vXMi3b', '79s5XnCN4TJKTVMSmOx8Ep', '21jGcNKet2qwijlDFuPiPb', '3aQem4jVGdhtg116TmJnHz', '1XXimziG1uhM0eDNCZCrUl', '7fBv7CLKzipRk6EC6TWHOB', '3UHPGOkUcE4hE7sqBF4Snt', '6ocbgoVGwYJhOv1GgI9NsF', '6tDDoYIxWvMLTdKpjFkc1B', '2U5WueTLIK5WJLD7mvDODv', '249gnXrbfmV8NG6jTEMSwD', '7szuecWAPwGoV1e5vGu8tl', '7vrJn5hDSXRmdXoR30KgF1', '15OjBeqNX3bShsGYQbteRv', '55Am8neGJkdj2ADaM3aw5H', '20McUFi8KCIVdNDLrkTDuZ', '7MiZjKawmXTsTNePyTfPyL', '1tkg4EHVoqnhR6iFEXb60y', '7uoFMmxln0GPXQ0AcCBXRq', '6f3Slt0GbA2bPZlz0aIFXN', '696DnlkuDOXcMAnKlTgXXK', '43PGPuHIlVOc04jrZVh9L6', '1diS6nkxMQc3wwC4G1j0bh', '4u4NyuceXP7Uzh7XFJKCr1', '3ee8Jmje8o58CHK66QrVC2', '2XU0oxnq2qxCpomAAuJY8K']\n",
      "\n",
      "Wymuszenie użycia modelu ARIMA:\n",
      "arima\n",
      "Odpowiedź mikroserwisu (ARIMA):\n",
      "['249gnXrbfmV8NG6jTEMSwD', '55Am8neGJkdj2ADaM3aw5H', '35mvY5S1H3J2QZyna3TFe0', '2b8fOow8UzyDFAE27YhOZM', '1XXimziG1uhM0eDNCZCrUl', '0pqnGHJpmpxLKifKRmU6WP', '3ee8Jmje8o58CHK66QrVC2', '3U4isOIWM3VvDubwSI3y7a', '1ZMiCix7XSAbfAJlEZWMCp', '4u4NyuceXP7Uzh7XFJKCr1', '45S5WTQEGOB1VHr1Q4FuPl', '0ofHAoxe9vBkTCp2UQIavz', '5FVd6KXrgO9B3JPmC8OPst', '3ZCTVFBt2Brf31RLEnCkWJ', '6zFMeegAMYQo0mt8rXtrli', '59qrUpoplZxbIZxk6X0Bm3', '0tgVpDi06FyKpA1z0VMD4v', '7FdUvDkaE24o3FPIWTvzv2', '7fBv7CLKzipRk6EC6TWHOB', '6Im9k8u9iIzKMrmV7BWtlF', '7vrJn5hDSXRmdXoR30KgF1', '2Fxmhks0bxGSBdJ92vM42m', '1KixkQVDUHggZMU9dUobgm', '7lPN2DXiMsVn7XUKtOW1CS', '6KfoDhO4XUWSbnyKjNp9c4', '3aQem4jVGdhtg116TmJnHz', '3eekarcy7kvN4yt5ZFzltW', '1diS6nkxMQc3wwC4G1j0bh', '3jjujdWJ72nww5eGnfs2E7', '27OeeYzk6klgBh83TSvGMA', '2ZRo7axmMPeSVUvDbGkJah', '79s5XnCN4TJKTVMSmOx8Ep', '0E4Y1XIbs8GrAT1YqVy6dq', '20McUFi8KCIVdNDLrkTDuZ', '2Lhdl74nwwVGOE2Gv35QuK', '2WfaOiMkCvy7F5fcp2zZ8L', '4xqrdfXkTW4T0RauPLv3WA', '45bE4HXI0AwGZXfZtMp8JR', '7MiZjKawmXTsTNePyTfPyL', '2U5WueTLIK5WJLD7mvDODv', '5QO79kh1waicV47BqGRL3g', '1tkg4EHVoqnhR6iFEXb60y', '285pBltuF7vW8TeWk8hdRR', '30bqVoKjX479ab90a8Pafp', '61KpQadow081I2AsbeLcsb', '0VjIjW4GlUZAMYd2vXMi3b', '6UelLqGlWMcVH1E5c4H7lY', '2MZQAvsA7aZDssppBLRxYp', '7szuecWAPwGoV1e5vGu8tl', '1nahzW3kfMuwReTka28tH5']\n",
      "\n",
      "Liczba wspólnych utworów w LSTM i ARIMA: 29\n",
      "Wspólne utwory: ['2U5WueTLIK5WJLD7mvDODv', '6zFMeegAMYQo0mt8rXtrli', '61KpQadow081I2AsbeLcsb', '45S5WTQEGOB1VHr1Q4FuPl', '6Im9k8u9iIzKMrmV7BWtlF', '7szuecWAPwGoV1e5vGu8tl', '2b8fOow8UzyDFAE27YhOZM', '0ofHAoxe9vBkTCp2UQIavz', '249gnXrbfmV8NG6jTEMSwD', '0VjIjW4GlUZAMYd2vXMi3b', '20McUFi8KCIVdNDLrkTDuZ', '7fBv7CLKzipRk6EC6TWHOB', '55Am8neGJkdj2ADaM3aw5H', '1XXimziG1uhM0eDNCZCrUl', '2ZRo7axmMPeSVUvDbGkJah', '3ZCTVFBt2Brf31RLEnCkWJ', '3aQem4jVGdhtg116TmJnHz', '1diS6nkxMQc3wwC4G1j0bh', '7vrJn5hDSXRmdXoR30KgF1', '79s5XnCN4TJKTVMSmOx8Ep', '7lPN2DXiMsVn7XUKtOW1CS', '4xqrdfXkTW4T0RauPLv3WA', '2MZQAvsA7aZDssppBLRxYp', '45bE4HXI0AwGZXfZtMp8JR', '1tkg4EHVoqnhR6iFEXb60y', '285pBltuF7vW8TeWk8hdRR', '3ee8Jmje8o58CHK66QrVC2', '4u4NyuceXP7Uzh7XFJKCr1', '7MiZjKawmXTsTNePyTfPyL']\n"
     ]
    }
   ],
   "source": [
    "import requests\n",
    "\n",
    "base_url = \"http://127.0.0.1:5000\"\n",
    "headers = {\n",
    "    \"Content-Type\": \"application/json\"\n",
    "}\n",
    "\n",
    "print(\"Automatyczny wybór modelu:\")\n",
    "response_auto = requests.post(\n",
    "    f\"{base_url}/predict\",\n",
    "    headers=headers,\n",
    "    json={}\n",
    ")\n",
    "if response_auto.status_code == 200:\n",
    "    auto_prediction = response_auto.json().get(\"prediction\", [])\n",
    "    print(\"Odpowiedź mikroserwisu (automatyczny wybór):\")\n",
    "    print(auto_prediction)\n",
    "else:\n",
    "    print(\"Błąd (automatyczny wybór):\")\n",
    "    print(response_auto.status_code, response_auto.text)\n",
    "\n",
    "print(\"\\nWymuszenie użycia modelu LSTM:\")\n",
    "response_lstm = requests.post(\n",
    "    f\"{base_url}/predict\",\n",
    "    headers=headers,\n",
    "    json={\"model_type\": \"lstm\"}\n",
    ")\n",
    "if response_lstm.status_code == 200:\n",
    "    print(response_lstm.json().get('model'))\n",
    "    lstm_prediction = response_lstm.json().get(\"prediction\", [])\n",
    "    print(\"Odpowiedź mikroserwisu (LSTM):\")\n",
    "    print(lstm_prediction)\n",
    "else:\n",
    "    print(\"Błąd (LSTM):\")\n",
    "    lstm_prediction = []\n",
    "    print(response_lstm.status_code, response_lstm.text)\n",
    "\n",
    "print(\"\\nWymuszenie użycia modelu ARIMA:\")\n",
    "response_arima = requests.post(\n",
    "    f\"{base_url}/predict\",\n",
    "    headers=headers,\n",
    "    json={\"model_type\": \"arima\"} \n",
    ")\n",
    "\n",
    "if response_arima.status_code == 200:\n",
    "    print(response_arima.json().get('model'))\n",
    "    arima_prediction = response_arima.json().get(\"prediction\", [])\n",
    "    print(\"Odpowiedź mikroserwisu (ARIMA):\")\n",
    "    print(arima_prediction)\n",
    "else:\n",
    "    print(\"Błąd (ARIMA):\")\n",
    "    arima_prediction = []\n",
    "    print(response_arima.status_code, response_arima.text)\n",
    "\n",
    "if lstm_prediction and arima_prediction:\n",
    "    common_tracks = set(lstm_prediction) & set(arima_prediction)\n",
    "    print(f\"\\nLiczba wspólnych utworów w LSTM i ARIMA: {len(common_tracks)}\")\n",
    "    print(\"Wspólne utwory:\", list(common_tracks))\n",
    "else:\n",
    "    print(\"\\nNie można porównać wyników: brak danych z jednego z modeli.\")\n"
   ]
  },
  {
   "cell_type": "code",
   "execution_count": 38,
   "metadata": {},
   "outputs": [
    {
     "name": "stdout",
     "output_type": "stream",
     "text": [
      "Mikroserwis Flask został zatrzymany.\n"
     ]
    }
   ],
   "source": [
    "flask_process.terminate()\n",
    "flask_process.wait()\n",
    "print(\"Mikroserwis Flask został zatrzymany.\")\n"
   ]
  }
 ],
 "metadata": {
  "kernelspec": {
   "display_name": "Python 3",
   "language": "python",
   "name": "python3"
  },
  "language_info": {
   "codemirror_mode": {
    "name": "ipython",
    "version": 3
   },
   "file_extension": ".py",
   "mimetype": "text/x-python",
   "name": "python",
   "nbconvert_exporter": "python",
   "pygments_lexer": "ipython3",
   "version": "3.10.12"
  }
 },
 "nbformat": 4,
 "nbformat_minor": 2
}
