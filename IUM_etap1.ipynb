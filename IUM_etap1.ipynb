{
 "cells": [
  {
   "cell_type": "code",
   "execution_count": 18,
   "id": "bfec4b57-4d83-4ae3-ba6c-461c2256ae20",
   "metadata": {},
   "outputs": [
    {
     "name": "stdout",
     "output_type": "stream",
     "text": [
      "Defaulting to user installation because normal site-packages is not writeable\n",
      "Requirement already satisfied: pandas in /home/dferfecka/.local/lib/python3.8/site-packages (2.0.3)\n",
      "Requirement already satisfied: matplotlib in /home/dferfecka/.local/lib/python3.8/site-packages (3.5.1)\n",
      "Collecting prettytable\n",
      "  Downloading prettytable-3.11.0-py3-none-any.whl.metadata (30 kB)\n",
      "Requirement already satisfied: python-dateutil>=2.8.2 in /home/dferfecka/.local/lib/python3.8/site-packages (from pandas) (2.8.2)\n",
      "Requirement already satisfied: pytz>=2020.1 in /home/dferfecka/.local/lib/python3.8/site-packages (from pandas) (2024.2)\n",
      "Requirement already satisfied: tzdata>=2022.1 in /home/dferfecka/.local/lib/python3.8/site-packages (from pandas) (2024.2)\n",
      "Requirement already satisfied: numpy>=1.20.3 in /home/dferfecka/.local/lib/python3.8/site-packages (from pandas) (1.21.5)\n",
      "Requirement already satisfied: cycler>=0.10 in /home/dferfecka/.local/lib/python3.8/site-packages (from matplotlib) (0.11.0)\n",
      "Requirement already satisfied: fonttools>=4.22.0 in /home/dferfecka/.local/lib/python3.8/site-packages (from matplotlib) (4.28.5)\n",
      "Requirement already satisfied: kiwisolver>=1.0.1 in /home/dferfecka/.local/lib/python3.8/site-packages (from matplotlib) (1.3.2)\n",
      "Requirement already satisfied: packaging>=20.0 in /home/dferfecka/.local/lib/python3.8/site-packages (from matplotlib) (24.2)\n",
      "Requirement already satisfied: pillow>=6.2.0 in /home/dferfecka/.local/lib/python3.8/site-packages (from matplotlib) (8.4.0)\n",
      "Requirement already satisfied: pyparsing>=2.2.1 in /home/dferfecka/.local/lib/python3.8/site-packages (from matplotlib) (2.4.7)\n",
      "Requirement already satisfied: wcwidth in /home/dferfecka/.local/lib/python3.8/site-packages (from prettytable) (0.2.13)\n",
      "Requirement already satisfied: six>=1.5 in /usr/lib/python3/dist-packages (from python-dateutil>=2.8.2->pandas) (1.14.0)\n",
      "Downloading prettytable-3.11.0-py3-none-any.whl (28 kB)\n",
      "Installing collected packages: prettytable\n",
      "Successfully installed prettytable-3.11.0\n",
      "\n",
      "\u001b[1m[\u001b[0m\u001b[34;49mnotice\u001b[0m\u001b[1;39;49m]\u001b[0m\u001b[39;49m A new release of pip is available: \u001b[0m\u001b[31;49m24.1.2\u001b[0m\u001b[39;49m -> \u001b[0m\u001b[32;49m24.3.1\u001b[0m\n",
      "\u001b[1m[\u001b[0m\u001b[34;49mnotice\u001b[0m\u001b[1;39;49m]\u001b[0m\u001b[39;49m To update, run: \u001b[0m\u001b[32;49mpython3 -m pip install --upgrade pip\u001b[0m\n"
     ]
    }
   ],
   "source": [
    "!pip install pandas matplotlib prettytable"
   ]
  },
  {
   "cell_type": "code",
   "execution_count": 11,
   "id": "e4dbe95a-7691-400e-b6c4-5ae8a16bea71",
   "metadata": {},
   "outputs": [],
   "source": [
    " # imports\n",
    "from matplotlib import pyplot as plt\n",
    "import pandas as pd"
   ]
  },
  {
   "cell_type": "code",
   "execution_count": 12,
   "id": "2432f908-731a-44d7-815d-b17cab111ecb",
   "metadata": {},
   "outputs": [],
   "source": [
    "SESSIONS = \"./V0/sessions.jsonl\"\n",
    "ARTISTS = \"./V0/artistsjsonl\"\n",
    "TRACKS = \"./V0/tracks.jsonl\""
   ]
  },
  {
   "cell_type": "code",
   "execution_count": 25,
   "id": "365637bc-1f9d-4e61-865c-220c7a770a21",
   "metadata": {},
   "outputs": [
    {
     "data": {
      "text/html": [
       "<div>\n",
       "<style scoped>\n",
       "    .dataframe tbody tr th:only-of-type {\n",
       "        vertical-align: middle;\n",
       "    }\n",
       "\n",
       "    .dataframe tbody tr th {\n",
       "        vertical-align: top;\n",
       "    }\n",
       "\n",
       "    .dataframe thead th {\n",
       "        text-align: right;\n",
       "    }\n",
       "</style>\n",
       "<table border=\"1\" class=\"dataframe\">\n",
       "  <thead>\n",
       "    <tr style=\"text-align: right;\">\n",
       "      <th></th>\n",
       "      <th>session_id</th>\n",
       "      <th>timestamp</th>\n",
       "      <th>user_id</th>\n",
       "      <th>track_id</th>\n",
       "      <th>event_type</th>\n",
       "    </tr>\n",
       "  </thead>\n",
       "  <tbody>\n",
       "    <tr>\n",
       "      <th>0</th>\n",
       "      <td>124</td>\n",
       "      <td>2023-10-25 10:13:55.258944</td>\n",
       "      <td>601.0</td>\n",
       "      <td>1Duym1lVQurgKHHSqpOWhY</td>\n",
       "      <td>play</td>\n",
       "    </tr>\n",
       "    <tr>\n",
       "      <th>1</th>\n",
       "      <td>124</td>\n",
       "      <td>2023-10-25 10:15:29.065944</td>\n",
       "      <td>601.0</td>\n",
       "      <td>None</td>\n",
       "      <td>skip</td>\n",
       "    </tr>\n",
       "    <tr>\n",
       "      <th>2</th>\n",
       "      <td>124</td>\n",
       "      <td>2023-10-25 10:15:34.065944</td>\n",
       "      <td>601.0</td>\n",
       "      <td>None</td>\n",
       "      <td>advertisment</td>\n",
       "    </tr>\n",
       "    <tr>\n",
       "      <th>3</th>\n",
       "      <td>124</td>\n",
       "      <td>2023-10-25 10:15:34.065944</td>\n",
       "      <td>601.0</td>\n",
       "      <td>6XFduBZIOMyOV8sCcHuYzb</td>\n",
       "      <td>play</td>\n",
       "    </tr>\n",
       "    <tr>\n",
       "      <th>4</th>\n",
       "      <td>124</td>\n",
       "      <td>2023-10-25 10:16:21.994944</td>\n",
       "      <td>601.0</td>\n",
       "      <td>6XFduBZIOMyOV8sCcHuYzb</td>\n",
       "      <td>like</td>\n",
       "    </tr>\n",
       "  </tbody>\n",
       "</table>\n",
       "</div>"
      ],
      "text/plain": [
       "   session_id                  timestamp  user_id                track_id  \\\n",
       "0         124 2023-10-25 10:13:55.258944    601.0  1Duym1lVQurgKHHSqpOWhY   \n",
       "1         124 2023-10-25 10:15:29.065944    601.0                    None   \n",
       "2         124 2023-10-25 10:15:34.065944    601.0                    None   \n",
       "3         124 2023-10-25 10:15:34.065944    601.0  6XFduBZIOMyOV8sCcHuYzb   \n",
       "4         124 2023-10-25 10:16:21.994944    601.0  6XFduBZIOMyOV8sCcHuYzb   \n",
       "\n",
       "     event_type  \n",
       "0          play  \n",
       "1          skip  \n",
       "2  advertisment  \n",
       "3          play  \n",
       "4          like  "
      ]
     },
     "execution_count": 25,
     "metadata": {},
     "output_type": "execute_result"
    }
   ],
   "source": [
    "session_data = pd.DataFrame(pd.read_json(SESSIONS, lines=True))\n",
    "session_data.head()"
   ]
  },
  {
   "cell_type": "code",
   "execution_count": 30,
   "id": "bca6077f-2279-4581-81b0-ee5ec1b83ee7",
   "metadata": {},
   "outputs": [
    {
     "name": "stdout",
     "output_type": "stream",
     "text": [
      "26764\n"
     ]
    }
   ],
   "source": [
    "print(len(session_data))"
   ]
  },
  {
   "cell_type": "code",
   "execution_count": 22,
   "id": "efbb551d-fa00-426f-97d6-93a2ebdfbfbd",
   "metadata": {},
   "outputs": [
    {
     "data": {
      "text/html": [
       "<div>\n",
       "<style scoped>\n",
       "    .dataframe tbody tr th:only-of-type {\n",
       "        vertical-align: middle;\n",
       "    }\n",
       "\n",
       "    .dataframe tbody tr th {\n",
       "        vertical-align: top;\n",
       "    }\n",
       "\n",
       "    .dataframe thead th {\n",
       "        text-align: right;\n",
       "    }\n",
       "</style>\n",
       "<table border=\"1\" class=\"dataframe\">\n",
       "  <thead>\n",
       "    <tr style=\"text-align: right;\">\n",
       "      <th></th>\n",
       "      <th>numeric</th>\n",
       "    </tr>\n",
       "  </thead>\n",
       "  <tbody>\n",
       "    <tr>\n",
       "      <th>count</th>\n",
       "      <td>3.0</td>\n",
       "    </tr>\n",
       "    <tr>\n",
       "      <th>mean</th>\n",
       "      <td>2.0</td>\n",
       "    </tr>\n",
       "    <tr>\n",
       "      <th>std</th>\n",
       "      <td>1.0</td>\n",
       "    </tr>\n",
       "    <tr>\n",
       "      <th>min</th>\n",
       "      <td>1.0</td>\n",
       "    </tr>\n",
       "    <tr>\n",
       "      <th>25%</th>\n",
       "      <td>1.5</td>\n",
       "    </tr>\n",
       "    <tr>\n",
       "      <th>50%</th>\n",
       "      <td>2.0</td>\n",
       "    </tr>\n",
       "    <tr>\n",
       "      <th>75%</th>\n",
       "      <td>2.5</td>\n",
       "    </tr>\n",
       "    <tr>\n",
       "      <th>max</th>\n",
       "      <td>3.0</td>\n",
       "    </tr>\n",
       "  </tbody>\n",
       "</table>\n",
       "</div>"
      ],
      "text/plain": [
       "       numeric\n",
       "count      3.0\n",
       "mean       2.0\n",
       "std        1.0\n",
       "min        1.0\n",
       "25%        1.5\n",
       "50%        2.0\n",
       "75%        2.5\n",
       "max        3.0"
      ]
     },
     "execution_count": 22,
     "metadata": {},
     "output_type": "execute_result"
    }
   ],
   "source": [
    "df = pd.DataFrame({'categorical': pd.Categorical(['d', 'e', 'f']),\n",
    "                   'numeric': [1, 2, 3],\n",
    "                   'object': ['a', 'b', 'c']\n",
    "                   })\n",
    "df.describe()"
   ]
  },
  {
   "cell_type": "code",
   "execution_count": 32,
   "id": "eec53890-4c9a-42b9-880f-f615bfe1f824",
   "metadata": {},
   "outputs": [
    {
     "name": "stdout",
     "output_type": "stream",
     "text": [
      "session_id    0.000000\n",
      "timestamp     0.000000\n",
      "user_id       0.049357\n",
      "track_id      0.183455\n",
      "event_type    0.049171\n",
      "dtype: float64\n"
     ]
    }
   ],
   "source": [
    "print(session_data.isnull().mean())"
   ]
  },
  {
   "cell_type": "code",
   "execution_count": 31,
   "id": "e166415a-1d0e-44fd-8c7a-152269e4a064",
   "metadata": {},
   "outputs": [
    {
     "name": "stdout",
     "output_type": "stream",
     "text": [
      "         session_id                      timestamp       user_id\n",
      "count  26764.000000                          26764  25443.000000\n",
      "mean    2512.872814  2023-09-23 23:34:01.095397120    625.935267\n",
      "min      124.000000     2023-03-25 10:35:53.618852    601.000000\n",
      "25%     1294.750000  2023-06-27 00:58:27.421529088    615.000000\n",
      "50%     2495.000000  2023-09-25 15:37:32.025764864    627.000000\n",
      "75%     3725.000000  2023-12-25 03:22:15.629364992    635.000000\n",
      "max     4904.000000     2024-03-24 13:51:31.382997    650.000000\n",
      "std     1389.838344                            NaN     12.376329\n"
     ]
    }
   ],
   "source": [
    "print(session_data.describe())"
   ]
  },
  {
   "cell_type": "code",
   "execution_count": 33,
   "id": "20dcc0cf-9de8-49e8-bb83-a49a439d0f79",
   "metadata": {},
   "outputs": [
    {
     "data": {
      "text/html": [
       "<div>\n",
       "<style scoped>\n",
       "    .dataframe tbody tr th:only-of-type {\n",
       "        vertical-align: middle;\n",
       "    }\n",
       "\n",
       "    .dataframe tbody tr th {\n",
       "        vertical-align: top;\n",
       "    }\n",
       "\n",
       "    .dataframe thead th {\n",
       "        text-align: right;\n",
       "    }\n",
       "</style>\n",
       "<table border=\"1\" class=\"dataframe\">\n",
       "  <thead>\n",
       "    <tr style=\"text-align: right;\">\n",
       "      <th></th>\n",
       "      <th>session_id</th>\n",
       "      <th>timestamp</th>\n",
       "      <th>user_id</th>\n",
       "      <th>track_id</th>\n",
       "      <th>event_type</th>\n",
       "    </tr>\n",
       "  </thead>\n",
       "  <tbody>\n",
       "    <tr>\n",
       "      <th>count</th>\n",
       "      <td>26764.000000</td>\n",
       "      <td>26764</td>\n",
       "      <td>25443.000000</td>\n",
       "      <td>21854</td>\n",
       "      <td>25448</td>\n",
       "    </tr>\n",
       "    <tr>\n",
       "      <th>unique</th>\n",
       "      <td>NaN</td>\n",
       "      <td>NaN</td>\n",
       "      <td>NaN</td>\n",
       "      <td>10640</td>\n",
       "      <td>4</td>\n",
       "    </tr>\n",
       "    <tr>\n",
       "      <th>top</th>\n",
       "      <td>NaN</td>\n",
       "      <td>NaN</td>\n",
       "      <td>NaN</td>\n",
       "      <td>466cKvZn1j45IpxDdYZqdA</td>\n",
       "      <td>play</td>\n",
       "    </tr>\n",
       "    <tr>\n",
       "      <th>freq</th>\n",
       "      <td>NaN</td>\n",
       "      <td>NaN</td>\n",
       "      <td>NaN</td>\n",
       "      <td>10</td>\n",
       "      <td>14115</td>\n",
       "    </tr>\n",
       "    <tr>\n",
       "      <th>mean</th>\n",
       "      <td>2512.872814</td>\n",
       "      <td>2023-09-23 23:34:01.095397120</td>\n",
       "      <td>625.935267</td>\n",
       "      <td>NaN</td>\n",
       "      <td>NaN</td>\n",
       "    </tr>\n",
       "    <tr>\n",
       "      <th>min</th>\n",
       "      <td>124.000000</td>\n",
       "      <td>2023-03-25 10:35:53.618852</td>\n",
       "      <td>601.000000</td>\n",
       "      <td>NaN</td>\n",
       "      <td>NaN</td>\n",
       "    </tr>\n",
       "    <tr>\n",
       "      <th>25%</th>\n",
       "      <td>1294.750000</td>\n",
       "      <td>2023-06-27 00:58:27.421529088</td>\n",
       "      <td>615.000000</td>\n",
       "      <td>NaN</td>\n",
       "      <td>NaN</td>\n",
       "    </tr>\n",
       "    <tr>\n",
       "      <th>50%</th>\n",
       "      <td>2495.000000</td>\n",
       "      <td>2023-09-25 15:37:32.025764864</td>\n",
       "      <td>627.000000</td>\n",
       "      <td>NaN</td>\n",
       "      <td>NaN</td>\n",
       "    </tr>\n",
       "    <tr>\n",
       "      <th>75%</th>\n",
       "      <td>3725.000000</td>\n",
       "      <td>2023-12-25 03:22:15.629364992</td>\n",
       "      <td>635.000000</td>\n",
       "      <td>NaN</td>\n",
       "      <td>NaN</td>\n",
       "    </tr>\n",
       "    <tr>\n",
       "      <th>max</th>\n",
       "      <td>4904.000000</td>\n",
       "      <td>2024-03-24 13:51:31.382997</td>\n",
       "      <td>650.000000</td>\n",
       "      <td>NaN</td>\n",
       "      <td>NaN</td>\n",
       "    </tr>\n",
       "    <tr>\n",
       "      <th>std</th>\n",
       "      <td>1389.838344</td>\n",
       "      <td>NaN</td>\n",
       "      <td>12.376329</td>\n",
       "      <td>NaN</td>\n",
       "      <td>NaN</td>\n",
       "    </tr>\n",
       "  </tbody>\n",
       "</table>\n",
       "</div>"
      ],
      "text/plain": [
       "          session_id                      timestamp       user_id  \\\n",
       "count   26764.000000                          26764  25443.000000   \n",
       "unique           NaN                            NaN           NaN   \n",
       "top              NaN                            NaN           NaN   \n",
       "freq             NaN                            NaN           NaN   \n",
       "mean     2512.872814  2023-09-23 23:34:01.095397120    625.935267   \n",
       "min       124.000000     2023-03-25 10:35:53.618852    601.000000   \n",
       "25%      1294.750000  2023-06-27 00:58:27.421529088    615.000000   \n",
       "50%      2495.000000  2023-09-25 15:37:32.025764864    627.000000   \n",
       "75%      3725.000000  2023-12-25 03:22:15.629364992    635.000000   \n",
       "max      4904.000000     2024-03-24 13:51:31.382997    650.000000   \n",
       "std      1389.838344                            NaN     12.376329   \n",
       "\n",
       "                      track_id event_type  \n",
       "count                    21854      25448  \n",
       "unique                   10640          4  \n",
       "top     466cKvZn1j45IpxDdYZqdA       play  \n",
       "freq                        10      14115  \n",
       "mean                       NaN        NaN  \n",
       "min                        NaN        NaN  \n",
       "25%                        NaN        NaN  \n",
       "50%                        NaN        NaN  \n",
       "75%                        NaN        NaN  \n",
       "max                        NaN        NaN  \n",
       "std                        NaN        NaN  "
      ]
     },
     "execution_count": 33,
     "metadata": {},
     "output_type": "execute_result"
    }
   ],
   "source": [
    "session_data.describe(include=\"all\")"
   ]
  },
  {
   "cell_type": "markdown",
   "id": "80fa9514-fa32-44c8-8e05-769bae29adaa",
   "metadata": {},
   "source": [
    "gfdfgdg"
   ]
  },
  {
   "cell_type": "code",
   "execution_count": null,
   "id": "534d4060-8dde-47fe-9273-98b0dce007fa",
   "metadata": {},
   "outputs": [],
   "source": []
  }
 ],
 "metadata": {
  "kernelspec": {
   "display_name": "Python 3 (ipykernel)",
   "language": "python",
   "name": "python3"
  },
  "language_info": {
   "codemirror_mode": {
    "name": "ipython",
    "version": 3
   },
   "file_extension": ".py",
   "mimetype": "text/x-python",
   "name": "python",
   "nbconvert_exporter": "python",
   "pygments_lexer": "ipython3",
   "version": "3.8.10"
  }
 },
 "nbformat": 4,
 "nbformat_minor": 5
}
